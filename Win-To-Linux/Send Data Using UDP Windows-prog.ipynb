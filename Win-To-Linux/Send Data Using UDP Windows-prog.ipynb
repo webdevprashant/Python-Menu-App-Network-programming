{
 "cells": [
  {
   "cell_type": "code",
   "execution_count": 1,
   "id": "bfcdc150",
   "metadata": {},
   "outputs": [],
   "source": [
    "import socket"
   ]
  },
  {
   "cell_type": "code",
   "execution_count": 4,
   "id": "b9877ef7",
   "metadata": {},
   "outputs": [],
   "source": [
    "s = socket.socket(socket.AF_INET , socket.SOCK_DGRAM)"
   ]
  },
  {
   "cell_type": "code",
   "execution_count": 6,
   "id": "cccb1e33",
   "metadata": {},
   "outputs": [
    {
     "data": {
      "text/plain": [
       "19"
      ]
     },
     "execution_count": 6,
     "metadata": {},
     "output_type": "execute_result"
    }
   ],
   "source": [
    "s.sendto(\"Here Comes the Pain\".encode() , (\"192.168.43.45\" , 1234))"
   ]
  },
  {
   "cell_type": "code",
   "execution_count": 7,
   "id": "b510499a",
   "metadata": {},
   "outputs": [
    {
     "data": {
      "text/plain": [
       "16"
      ]
     },
     "execution_count": 7,
     "metadata": {},
     "output_type": "execute_result"
    }
   ],
   "source": [
    "s.sendto(\"Lord of Darkness\".encode() , (\"192.168.43.45\" , 1234))"
   ]
  },
  {
   "cell_type": "code",
   "execution_count": null,
   "id": "73515a61",
   "metadata": {},
   "outputs": [],
   "source": []
  }
 ],
 "metadata": {
  "kernelspec": {
   "display_name": "Python 3",
   "language": "python",
   "name": "python3"
  },
  "language_info": {
   "codemirror_mode": {
    "name": "ipython",
    "version": 3
   },
   "file_extension": ".py",
   "mimetype": "text/x-python",
   "name": "python",
   "nbconvert_exporter": "python",
   "pygments_lexer": "ipython3",
   "version": "3.8.8"
  }
 },
 "nbformat": 4,
 "nbformat_minor": 5
}
