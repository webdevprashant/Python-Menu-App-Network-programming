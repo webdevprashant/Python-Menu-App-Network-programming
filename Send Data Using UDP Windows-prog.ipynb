{
 "cells": [
  {
   "cell_type": "code",
   "execution_count": 1,
   "id": "305caa13",
   "metadata": {},
   "outputs": [],
   "source": [
    "import socket"
   ]
  },
  {
   "cell_type": "code",
   "execution_count": 4,
   "id": "5d8b8717",
   "metadata": {},
   "outputs": [],
   "source": [
    "s = socket.socket(socket.AF_INET , socket.SOCK_DGRAM)"
   ]
  },
  {
   "cell_type": "code",
   "execution_count": 6,
   "id": "1c2b0ae2",
   "metadata": {},
   "outputs": [
    {
     "data": {
      "text/plain": [
       "19"
      ]
     },
     "execution_count": 6,
     "metadata": {},
     "output_type": "execute_result"
    }
   ],
   "source": [
    "s.sendto(\"Here Comes the Pain\".encode() , (\"192.168.43.45\" , 1234))"
   ]
  },
  {
   "cell_type": "code",
   "execution_count": 7,
   "id": "ba3f1c01",
   "metadata": {},
   "outputs": [
    {
     "data": {
      "text/plain": [
       "16"
      ]
     },
     "execution_count": 7,
     "metadata": {},
     "output_type": "execute_result"
    }
   ],
   "source": [
    "s.sendto(\"Lord of Darkness\".encode() , (\"192.168.43.45\" , 1234))"
   ]
  },
  {
   "cell_type": "code",
   "execution_count": null,
   "id": "80e73d44",
   "metadata": {},
   "outputs": [],
   "source": []
  }
 ],
 "metadata": {
  "kernelspec": {
   "display_name": "Python 3",
   "language": "python",
   "name": "python3"
  },
  "language_info": {
   "codemirror_mode": {
    "name": "ipython",
    "version": 3
   },
   "file_extension": ".py",
   "mimetype": "text/x-python",
   "name": "python",
   "nbconvert_exporter": "python",
   "pygments_lexer": "ipython3",
   "version": "3.8.8"
  }
 },
 "nbformat": 4,
 "nbformat_minor": 5
}
